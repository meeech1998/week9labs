{
 "cells": [
  {
   "cell_type": "markdown",
   "id": "ecbc9c14-af13-4bed-bde2-67c3d1cbbf60",
   "metadata": {},
   "source": [
    "# Week 9: Independent Lab - Inferential Statistics\n",
    "Michelle Calderwood | BGEN 632 – Spring 2025"
   ]
  },
  {
   "cell_type": "markdown",
   "id": "caa9fb3e-c5ea-461a-9cb5-38b875aa9050",
   "metadata": {},
   "source": [
    "### Load Data"
   ]
  },
  {
   "cell_type": "code",
   "execution_count": 41,
   "id": "c3cdb77c-0ed9-4cb5-9a27-b62d6147fe37",
   "metadata": {},
   "outputs": [
    {
     "name": "stdout",
     "output_type": "stream",
     "text": [
      "<class 'pandas.core.frame.DataFrame'>\n",
      "RangeIndex: 201 entries, 0 to 200\n",
      "Data columns (total 16 columns):\n",
      " #   Column        Non-Null Count  Dtype\n",
      "---  ------        --------------  -----\n",
      " 0   attitude1_01  201 non-null    int64\n",
      " 1   attitude1_02  201 non-null    int64\n",
      " 2   attitude1_03  201 non-null    int64\n",
      " 3   attitude1_04  201 non-null    int64\n",
      " 4   intent1_01    201 non-null    int64\n",
      " 5   intent1_02    201 non-null    int64\n",
      " 6   intent1_03    201 non-null    int64\n",
      " 7   intent1_04    201 non-null    int64\n",
      " 8   peruse01      201 non-null    int64\n",
      " 9   peruse02      201 non-null    int64\n",
      " 10  peruse03      201 non-null    int64\n",
      " 11  peruse04      201 non-null    int64\n",
      " 12  satis01       201 non-null    int64\n",
      " 13  satis02       201 non-null    int64\n",
      " 14  satis03       201 non-null    int64\n",
      " 15  satis04       201 non-null    int64\n",
      "dtypes: int64(16)\n",
      "memory usage: 25.3 KB\n"
     ]
    },
    {
     "data": {
      "text/html": [
       "<div>\n",
       "<style scoped>\n",
       "    .dataframe tbody tr th:only-of-type {\n",
       "        vertical-align: middle;\n",
       "    }\n",
       "\n",
       "    .dataframe tbody tr th {\n",
       "        vertical-align: top;\n",
       "    }\n",
       "\n",
       "    .dataframe thead th {\n",
       "        text-align: right;\n",
       "    }\n",
       "</style>\n",
       "<table border=\"1\" class=\"dataframe\">\n",
       "  <thead>\n",
       "    <tr style=\"text-align: right;\">\n",
       "      <th></th>\n",
       "      <th>attitude1_01</th>\n",
       "      <th>attitude1_02</th>\n",
       "      <th>attitude1_03</th>\n",
       "      <th>attitude1_04</th>\n",
       "      <th>intent1_01</th>\n",
       "      <th>intent1_02</th>\n",
       "      <th>intent1_03</th>\n",
       "      <th>intent1_04</th>\n",
       "      <th>peruse01</th>\n",
       "      <th>peruse02</th>\n",
       "      <th>peruse03</th>\n",
       "      <th>peruse04</th>\n",
       "      <th>satis01</th>\n",
       "      <th>satis02</th>\n",
       "      <th>satis03</th>\n",
       "      <th>satis04</th>\n",
       "    </tr>\n",
       "  </thead>\n",
       "  <tbody>\n",
       "    <tr>\n",
       "      <th>count</th>\n",
       "      <td>201.000000</td>\n",
       "      <td>201.000000</td>\n",
       "      <td>201.000000</td>\n",
       "      <td>201.000000</td>\n",
       "      <td>201.000000</td>\n",
       "      <td>201.000000</td>\n",
       "      <td>201.000000</td>\n",
       "      <td>201.000000</td>\n",
       "      <td>201.000000</td>\n",
       "      <td>201.000000</td>\n",
       "      <td>201.000000</td>\n",
       "      <td>201.000000</td>\n",
       "      <td>201.000000</td>\n",
       "      <td>201.000000</td>\n",
       "      <td>201.000000</td>\n",
       "      <td>201.000000</td>\n",
       "    </tr>\n",
       "    <tr>\n",
       "      <th>mean</th>\n",
       "      <td>6.094527</td>\n",
       "      <td>6.044776</td>\n",
       "      <td>5.791045</td>\n",
       "      <td>5.890547</td>\n",
       "      <td>6.199005</td>\n",
       "      <td>6.044776</td>\n",
       "      <td>6.258706</td>\n",
       "      <td>5.840796</td>\n",
       "      <td>5.890547</td>\n",
       "      <td>5.601990</td>\n",
       "      <td>5.920398</td>\n",
       "      <td>5.731343</td>\n",
       "      <td>5.512438</td>\n",
       "      <td>5.562189</td>\n",
       "      <td>5.487562</td>\n",
       "      <td>5.343284</td>\n",
       "    </tr>\n",
       "    <tr>\n",
       "      <th>std</th>\n",
       "      <td>0.935959</td>\n",
       "      <td>1.073771</td>\n",
       "      <td>1.070570</td>\n",
       "      <td>1.008940</td>\n",
       "      <td>1.019901</td>\n",
       "      <td>1.167470</td>\n",
       "      <td>0.939540</td>\n",
       "      <td>1.069826</td>\n",
       "      <td>1.076086</td>\n",
       "      <td>1.220982</td>\n",
       "      <td>1.154830</td>\n",
       "      <td>1.211389</td>\n",
       "      <td>1.118523</td>\n",
       "      <td>1.160760</td>\n",
       "      <td>1.212887</td>\n",
       "      <td>1.093877</td>\n",
       "    </tr>\n",
       "    <tr>\n",
       "      <th>min</th>\n",
       "      <td>3.000000</td>\n",
       "      <td>2.000000</td>\n",
       "      <td>3.000000</td>\n",
       "      <td>3.000000</td>\n",
       "      <td>1.000000</td>\n",
       "      <td>1.000000</td>\n",
       "      <td>3.000000</td>\n",
       "      <td>2.000000</td>\n",
       "      <td>1.000000</td>\n",
       "      <td>1.000000</td>\n",
       "      <td>1.000000</td>\n",
       "      <td>1.000000</td>\n",
       "      <td>2.000000</td>\n",
       "      <td>2.000000</td>\n",
       "      <td>1.000000</td>\n",
       "      <td>3.000000</td>\n",
       "    </tr>\n",
       "    <tr>\n",
       "      <th>25%</th>\n",
       "      <td>6.000000</td>\n",
       "      <td>5.000000</td>\n",
       "      <td>5.000000</td>\n",
       "      <td>5.000000</td>\n",
       "      <td>6.000000</td>\n",
       "      <td>5.000000</td>\n",
       "      <td>6.000000</td>\n",
       "      <td>5.000000</td>\n",
       "      <td>5.000000</td>\n",
       "      <td>5.000000</td>\n",
       "      <td>5.000000</td>\n",
       "      <td>5.000000</td>\n",
       "      <td>5.000000</td>\n",
       "      <td>5.000000</td>\n",
       "      <td>5.000000</td>\n",
       "      <td>5.000000</td>\n",
       "    </tr>\n",
       "    <tr>\n",
       "      <th>50%</th>\n",
       "      <td>6.000000</td>\n",
       "      <td>6.000000</td>\n",
       "      <td>6.000000</td>\n",
       "      <td>6.000000</td>\n",
       "      <td>6.000000</td>\n",
       "      <td>6.000000</td>\n",
       "      <td>7.000000</td>\n",
       "      <td>6.000000</td>\n",
       "      <td>6.000000</td>\n",
       "      <td>6.000000</td>\n",
       "      <td>6.000000</td>\n",
       "      <td>6.000000</td>\n",
       "      <td>6.000000</td>\n",
       "      <td>6.000000</td>\n",
       "      <td>6.000000</td>\n",
       "      <td>5.000000</td>\n",
       "    </tr>\n",
       "    <tr>\n",
       "      <th>75%</th>\n",
       "      <td>7.000000</td>\n",
       "      <td>7.000000</td>\n",
       "      <td>7.000000</td>\n",
       "      <td>7.000000</td>\n",
       "      <td>7.000000</td>\n",
       "      <td>7.000000</td>\n",
       "      <td>7.000000</td>\n",
       "      <td>7.000000</td>\n",
       "      <td>7.000000</td>\n",
       "      <td>6.000000</td>\n",
       "      <td>7.000000</td>\n",
       "      <td>7.000000</td>\n",
       "      <td>6.000000</td>\n",
       "      <td>6.000000</td>\n",
       "      <td>6.000000</td>\n",
       "      <td>6.000000</td>\n",
       "    </tr>\n",
       "    <tr>\n",
       "      <th>max</th>\n",
       "      <td>7.000000</td>\n",
       "      <td>7.000000</td>\n",
       "      <td>7.000000</td>\n",
       "      <td>7.000000</td>\n",
       "      <td>7.000000</td>\n",
       "      <td>7.000000</td>\n",
       "      <td>7.000000</td>\n",
       "      <td>7.000000</td>\n",
       "      <td>7.000000</td>\n",
       "      <td>7.000000</td>\n",
       "      <td>7.000000</td>\n",
       "      <td>7.000000</td>\n",
       "      <td>7.000000</td>\n",
       "      <td>7.000000</td>\n",
       "      <td>7.000000</td>\n",
       "      <td>7.000000</td>\n",
       "    </tr>\n",
       "  </tbody>\n",
       "</table>\n",
       "</div>"
      ],
      "text/plain": [
       "       attitude1_01  attitude1_02  attitude1_03  attitude1_04  intent1_01  \\\n",
       "count    201.000000    201.000000    201.000000    201.000000  201.000000   \n",
       "mean       6.094527      6.044776      5.791045      5.890547    6.199005   \n",
       "std        0.935959      1.073771      1.070570      1.008940    1.019901   \n",
       "min        3.000000      2.000000      3.000000      3.000000    1.000000   \n",
       "25%        6.000000      5.000000      5.000000      5.000000    6.000000   \n",
       "50%        6.000000      6.000000      6.000000      6.000000    6.000000   \n",
       "75%        7.000000      7.000000      7.000000      7.000000    7.000000   \n",
       "max        7.000000      7.000000      7.000000      7.000000    7.000000   \n",
       "\n",
       "       intent1_02  intent1_03  intent1_04    peruse01    peruse02    peruse03  \\\n",
       "count  201.000000  201.000000  201.000000  201.000000  201.000000  201.000000   \n",
       "mean     6.044776    6.258706    5.840796    5.890547    5.601990    5.920398   \n",
       "std      1.167470    0.939540    1.069826    1.076086    1.220982    1.154830   \n",
       "min      1.000000    3.000000    2.000000    1.000000    1.000000    1.000000   \n",
       "25%      5.000000    6.000000    5.000000    5.000000    5.000000    5.000000   \n",
       "50%      6.000000    7.000000    6.000000    6.000000    6.000000    6.000000   \n",
       "75%      7.000000    7.000000    7.000000    7.000000    6.000000    7.000000   \n",
       "max      7.000000    7.000000    7.000000    7.000000    7.000000    7.000000   \n",
       "\n",
       "         peruse04     satis01     satis02     satis03     satis04  \n",
       "count  201.000000  201.000000  201.000000  201.000000  201.000000  \n",
       "mean     5.731343    5.512438    5.562189    5.487562    5.343284  \n",
       "std      1.211389    1.118523    1.160760    1.212887    1.093877  \n",
       "min      1.000000    2.000000    2.000000    1.000000    3.000000  \n",
       "25%      5.000000    5.000000    5.000000    5.000000    5.000000  \n",
       "50%      6.000000    6.000000    6.000000    6.000000    5.000000  \n",
       "75%      7.000000    6.000000    6.000000    6.000000    6.000000  \n",
       "max      7.000000    7.000000    7.000000    7.000000    7.000000  "
      ]
     },
     "execution_count": 41,
     "metadata": {},
     "output_type": "execute_result"
    }
   ],
   "source": [
    "import pandas as pd\n",
    "\n",
    "# Load the ECT data\n",
    "ect_df = pd.read_table(\"data/ect_data.txt\")\n",
    "\n",
    "# Quick inspection\n",
    "ect_df.info()\n",
    "ect_df.describe()"
   ]
  },
  {
   "cell_type": "markdown",
   "id": "ac007e07-3643-429b-acad-6b04e693c8fc",
   "metadata": {},
   "source": [
    "### Build Regression Model"
   ]
  },
  {
   "cell_type": "code",
   "execution_count": 47,
   "id": "d1ef0e1f-0e4c-4f91-bdb3-b34f476ed936",
   "metadata": {},
   "outputs": [
    {
     "name": "stdout",
     "output_type": "stream",
     "text": [
      "                            OLS Regression Results                            \n",
      "==============================================================================\n",
      "Dep. Variable:             intent1_01   R-squared:                       0.536\n",
      "Model:                            OLS   Adj. R-squared:                  0.524\n",
      "Method:                 Least Squares   F-statistic:                     45.01\n",
      "Date:                Fri, 25 Apr 2025   Prob (F-statistic):           9.40e-31\n",
      "Time:                        09:52:43   Log-Likelihood:                -211.54\n",
      "No. Observations:                 201   AIC:                             435.1\n",
      "Df Residuals:                     195   BIC:                             454.9\n",
      "Df Model:                           5                                         \n",
      "Covariance Type:            nonrobust                                         \n",
      "================================================================================\n",
      "                   coef    std err          t      P>|t|      [0.025      0.975]\n",
      "--------------------------------------------------------------------------------\n",
      "const            0.9961      0.353      2.826      0.005       0.301       1.691\n",
      "attitude1_01     0.3098      0.095      3.252      0.001       0.122       0.498\n",
      "attitude1_02     0.1481      0.076      1.960      0.051      -0.001       0.297\n",
      "peruse01         0.2337      0.058      4.061      0.000       0.120       0.347\n",
      "satis01          0.1676      0.094      1.779      0.077      -0.018       0.353\n",
      "satis02          0.0215      0.089      0.240      0.810      -0.155       0.198\n",
      "==============================================================================\n",
      "Omnibus:                       61.979   Durbin-Watson:                   1.929\n",
      "Prob(Omnibus):                  0.000   Jarque-Bera (JB):              296.788\n",
      "Skew:                          -1.088   Prob(JB):                     3.58e-65\n",
      "Kurtosis:                       8.541   Cond. No.                         94.2\n",
      "==============================================================================\n",
      "\n",
      "Notes:\n",
      "[1] Standard Errors assume that the covariance matrix of the errors is correctly specified.\n"
     ]
    }
   ],
   "source": [
    "import statsmodels.api as sm\n",
    "\n",
    "# Select 5 valid predictors (avoid intent1_02 to intent1_04)\n",
    "X = ect_df[['attitude1_01', 'attitude1_02', 'peruse01', 'satis01', 'satis02']]\n",
    "y = ect_df['intent1_01']\n",
    "\n",
    "# Add constant\n",
    "X = sm.add_constant(X)\n",
    "\n",
    "# Fit model\n",
    "model = sm.OLS(y, X).fit()\n",
    "print(model.summary())"
   ]
  },
  {
   "cell_type": "markdown",
   "id": "5e25a34d-114b-4612-ad33-edd55f17f7f2",
   "metadata": {},
   "source": [
    "### Assess Assumptions"
   ]
  },
  {
   "cell_type": "markdown",
   "id": "8d156691-3a7f-45ee-9444-73cc88d8594b",
   "metadata": {},
   "source": [
    "#### Linearity & Homoscedasticity"
   ]
  },
  {
   "cell_type": "code",
   "execution_count": 49,
   "id": "db0b3a6d-cdbc-4a08-813f-372e2883fecf",
   "metadata": {},
   "outputs": [
    {
     "data": {
      "image/png": "[encoded data removed]",
      "text/plain": [
       "<Figure size 640x480 with 1 Axes>"
      ]
     },
     "metadata": {},
     "output_type": "display_data"
    }
   ],
   "source": [
    "import matplotlib.pyplot as plt\n",
    "import seaborn as sns\n",
    "\n",
    "# Predicted vs. Residuals\n",
    "residuals = model.resid\n",
    "fitted = model.fittedvalues\n",
    "\n",
    "sns.scatterplot(x=fitted, y=residuals)\n",
    "plt.axhline(0, linestyle='--', color='red')\n",
    "plt.title(\"Residuals vs Fitted\")\n",
    "plt.xlabel(\"Fitted values\")\n",
    "plt.ylabel(\"Residuals\")\n",
    "plt.show()"
   ]
  },
  {
   "cell_type": "markdown",
   "id": "f99d37b9-5858-473c-972a-a4202ba7bc3d",
   "metadata": {},
   "source": [
    "#### Collinearity"
   ]
  },
  {
   "cell_type": "code",
   "execution_count": 51,
   "id": "5b69e991-42ae-4557-b95c-25c47115c252",
   "metadata": {},
   "outputs": [
    {
     "name": "stdout",
     "output_type": "stream",
     "text": [
      "        feature        VIF\n",
      "0         const  50.439415\n",
      "1  attitude1_01   3.208845\n",
      "2  attitude1_02   2.657443\n",
      "3      peruse01   1.548590\n",
      "4       satis01   4.484163\n",
      "5       satis02   4.341000\n"
     ]
    }
   ],
   "source": [
    "from statsmodels.stats.outliers_influence import variance_inflation_factor\n",
    "\n",
    "vif_data = pd.DataFrame()\n",
    "vif_data[\"feature\"] = X.columns\n",
    "vif_data[\"VIF\"] = [variance_inflation_factor(X.values, i) for i in range(X.shape[1])]\n",
    "print(vif_data)"
   ]
  },
  {
   "cell_type": "markdown",
   "id": "c5184f93-f64f-4e9f-a145-f8e87c8c5a5a",
   "metadata": {},
   "source": [
    "#### Normaility of Residuals"
   ]
  },
  {
   "cell_type": "code",
   "execution_count": 53,
   "id": "9ad2edce-f1eb-47be-b30a-f6993eca673e",
   "metadata": {},
   "outputs": [
    {
     "data": {
      "image/png": "[encoded data removed]",
      "text/plain": [
       "<Figure size 640x480 with 1 Axes>"
      ]
     },
     "metadata": {},
     "output_type": "display_data"
    },
    {
     "name": "stdout",
     "output_type": "stream",
     "text": [
      "Shapiro-Wilk Test: Statistic=0.9213, p=0.0000\n"
     ]
    }
   ],
   "source": [
    "import scipy.stats as stats\n",
    "\n",
    "# QQ plot\n",
    "sm.qqplot(residuals, line='s')\n",
    "plt.title(\"QQ Plot of Residuals\")\n",
    "plt.show()\n",
    "\n",
    "# Shapiro-Wilk test\n",
    "shapiro_test = stats.shapiro(residuals)\n",
    "print(f\"Shapiro-Wilk Test: Statistic={shapiro_test.statistic:.4f}, p={shapiro_test.pvalue:.4f}\")"
   ]
  },
  {
   "cell_type": "markdown",
   "id": "c75d09db-dea0-44f9-8fa5-47175e4755ee",
   "metadata": {},
   "source": [
    "#### Independence (Durbin-Watson)"
   ]
  },
  {
   "cell_type": "code",
   "execution_count": 55,
   "id": "f2d8e6b1-6f86-481e-b960-09c17acb30b2",
   "metadata": {},
   "outputs": [
    {
     "name": "stdout",
     "output_type": "stream",
     "text": [
      "Durbin-Watson: 1.929\n"
     ]
    }
   ],
   "source": [
    "from statsmodels.stats.stattools import durbin_watson\n",
    "dw = durbin_watson(residuals)\n",
    "print(f'Durbin-Watson: {dw:.3f}')"
   ]
  },
  {
   "cell_type": "markdown",
   "id": "db3e31bb-32c1-4137-87cd-f89c34d176d0",
   "metadata": {},
   "source": [
    "### Interpretation"
   ]
  },
  {
   "cell_type": "markdown",
   "id": "71e9d5e4-949d-4cad-882b-dda016a0ecdc",
   "metadata": {
    "jp-MarkdownHeadingCollapsed": true
   },
   "source": [
    "#### F-Test – Overall Model Fit\n",
    "\n",
    "The F-test evaluates whether the group of predictors, taken together, explain a significant portion of variation in the dependent variable.\n",
    "* F-statistic = 45.01\n",
    "* p-value < 0.001\n",
    "\n",
    "This indicates the overall model is statistically significant. At least one predictor significantly contributes to explaining variance in intent1_01.\n",
    "\n",
    "#### T-Tests – Individual Predictor Significance\n",
    "\n",
    "Each predictor is tested individually to determine whether its coefficient significantly differs from zero.\n",
    "* attitude1_01: p = 0.001 — statistically significant\n",
    "* attitude1_02: p = 0.051 — marginal, borderline significance\n",
    "* peruse01: p < 0.001 — statistically significant\n",
    "* satis01: p = 0.077 — not significant at the 0.05 level\n",
    "* satis02: p = 0.810 — not significant\n",
    "\n",
    "Only attitude1_01 and peruse01 are clearly significant at the 0.05 level.\n",
    "\n",
    "#### Business Relevance of Significant Predictors\n",
    "* attitude1_01: This variable represents employees’ initial attitudes toward the system. Since it is statistically significant with a relatively large coefficient (0.391), it suggests that fostering positive attitudes early (e.g., through awareness campaigns or internal promotion) could drive higher intent to use the system.\n",
    "* peruse01: This variable likely captures system usage or user curiosity. Its significance (coefficient = 0.234, p < 0.001) suggests that hands-on interaction increases adoption intent. Increasing opportunities to explore or experiment with the system (e.g., test accounts, tutorials) may increase intent to adopt.\n",
    "#### Model Equation\n",
    "\n",
    "The linear regression model can be expressed as:\n",
    "\n",
    "intent1_01 = 0.996 + 0.391 * attitude1_01 \n",
    "                   + 0.148 * attitude1_02 \n",
    "                   + 0.234 * peruse01 \n",
    "                   + 0.167 * satis01 \n",
    "                   + 0.022 * satis02\n",
    "\n",
    "Each coefficient represents the expected change in intent1_01 for a one-unit increase in the predictor, holding all other predictors constant.\n",
    "#### Summary of Model Fit\n",
    "* R-squared = 0.536\n",
    "* Adjusted R-squared = 0.524\n",
    "\n",
    "This indicates that approximately 52.4% of the variation in intent1_01 is explained by the model. This is a reasonably strong model given social science data.\n",
    "#### Assumption Checks\n",
    "\n",
    "##### Linearity\n",
    "* The residuals vs. fitted plot shows roughly linear relationships, though some curvature suggests mild non-linearity.\n",
    "\n",
    "##### Homoscedasticity\n",
    "* The spread of residuals in the plot is fairly consistent, with no strong funneling. Mild heteroscedasticity may exist.\n",
    "\n",
    "##### Collinearity (VIF)\n",
    "* VIF values were all below 5 (except the constant), suggesting no serious multicollinearity.\n",
    "\n",
    "attitude1_01: 3.21  \n",
    "attitude1_02: 2.66  \n",
    "peruse01: 1.55  \n",
    "satis01: 4.49\n",
    "satis02: 4.34\n",
    "\n",
    "##### Normality\n",
    "* Shapiro-Wilk test: W = 0.9213, p < 0.001\n",
    "* QQ plot shows mild skew. Assumption of normality is not fully met, but sample size (n = 201) makes the model robust.\n",
    "\n",
    "##### Independence\n",
    "* Durbin-Watson = 1.929\n",
    "* This is within the acceptable range (~2.0), so residuals are likely independent."
   ]
  },
  {
   "cell_type": "markdown",
   "id": "fdc4dfd4-1b32-40ad-9b45-3fcd8af2f4c9",
   "metadata": {},
   "source": [
    "### References"
   ]
  },
  {
   "cell_type": "markdown",
   "id": "51ecb19f-140f-463d-b9c4-67401cd7fdf4",
   "metadata": {},
   "source": [
    "[ChatGPT_Instructor_Lab.ipynb](ChatGPT_Independent.ipynb)"
   ]
  }
 ],
 "metadata": {
  "kernelspec": {
   "display_name": "Python [conda env:base] *",
   "language": "python",
   "name": "conda-base-py"
  },
  "language_info": {
   "codemirror_mode": {
    "name": "ipython",
    "version": 3
   },
   "file_extension": ".py",
   "mimetype": "text/x-python",
   "name": "python",
   "nbconvert_exporter": "python",
   "pygments_lexer": "ipython3",
   "version": "3.12.7"
  }
 },
 "nbformat": 4,
 "nbformat_minor": 5
}
